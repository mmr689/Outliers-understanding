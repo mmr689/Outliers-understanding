{
 "cells": [
  {
   "cell_type": "markdown",
   "metadata": {},
   "source": [
    "# Isolation Forest"
   ]
  },
  {
   "cell_type": "markdown",
   "metadata": {},
   "source": [
    "[Scikit-learn wiki](https://scikit-learn.org/stable/modules/generated/sklearn.ensemble.IsolationForest.html)\n",
    "\n",
    "A continuación vemos el ejemplo más básico de la propia wiki."
   ]
  },
  {
   "cell_type": "code",
   "execution_count": null,
   "metadata": {},
   "outputs": [],
   "source": [
    "from sklearn.ensemble import IsolationForest\n",
    "\n",
    "X = [[-1.1], [0.3], [0.5], [100]]\n",
    "clf = IsolationForest(random_state=0).fit(X)\n",
    "clf.predict([[0.1], [0], [90]])"
   ]
  },
  {
   "cell_type": "markdown",
   "metadata": {},
   "source": [
    "Lo que hace este ejemplo básicamente es:\n",
    "1. Crear una lista de valores con los cuales vamos a entrenar, siendo 100 un valor anómalo.\n",
    "2. Entrenar el modelo IF estableciendo una semilla para poder replicarlo en el futuro.\n",
    "3. Evaluar diferentes valores. Donde por la coherencia de los valores de entrenamiento, 90 será un valor anómalo (definido cómo -1).\n",
    "\n",
    "Los parámetros de trabajo de `sklearn.ensemble.IsolationForest()` son:\n",
    "\n",
    "- `n_estimators`: `int`, por defecto `100`. Este define cuantos estimadores (árboles) vamos a emplear para generar el modelo. Debemos ir con cuidado en encontrar el valor idóneo pues si nos excedemos podremos tener problemas de sobreajuste, además de una mayor cantidad de cómputo de entrenamiento. Un método habitual para definir este valor es aplicando validación cruzada.\n",
    "\n",
    "- `max_samples`: `auto`, `int`, `float`, por defecto `auto`. Este sirve para definir cuantas muestras vamos a emplear para entrenar el modelo. Es decir, si tenemos `1000` muestras podemos definir este valor a `100` y para entrenar cada arbol se seleccionarán 100 datos de manera aleatoria.\n",
    "    - Si `max_samples='auto'` el valor se define según `min(256, samples)`. Es decir, si las muestras son mayor o igual a 256 valores, se emplean 256 valores para entrenar. En caso de tener un tamaño de muestras inferior a 256, se emplearía el total de estas.\n",
    "    - Si `max_samples= \"int\"`, es decir definiendo un valor entero, este valor será el tamaño de entrenamiento. En caso de ser un valor superior al tamaño de las muestras, se emplearían todas.\n",
    "    - Si `max_samples = \"float\"`, es decir definiendo un valor flotante, estamos definiendo el porcentaje de muestras respecto al total que queremos emplear para entrenar. Siendo este valor un flotante entre 0 y 1."
   ]
  }
 ],
 "metadata": {
  "language_info": {
   "name": "python"
  }
 },
 "nbformat": 4,
 "nbformat_minor": 2
}
